{
 "cells": [
  {
   "cell_type": "markdown",
   "metadata": {},
   "source": [
    "<center>  <h1> SQwash: Distributionally Robust Learning in PyTorch with 1 Additional Line of Code </h1> </center>\n",
    "<center> Krishna Pillutla, Yassine Laguel, Jérôme Malick, Zaid Harchaoui </center>\n",
    "\n",
    "In this notebook we demonstrate how the SQwash package can be used to train distributionally robust models in PyTorch with one additional line of code using the CIFAR-10 dataset. \n",
    "\n",
    "## 1. Define the model\n",
    "We start by defining a simple convolutional neural network. "
   ]
  },
  {
   "cell_type": "code",
   "execution_count": 1,
   "metadata": {},
   "outputs": [],
   "source": [
    "import torch\n",
    "import torch.nn as nn\n",
    "torch.manual_seed(0)\n",
    "import random\n",
    "random.seed(1)\n",
    "\n",
    "output_sizes_dict = {1: 16, 2: 8}\n",
    "\n",
    "class ConvCifar(nn.Module):\n",
    "    def __init__(self, num_classes=10, num_layers=5, num_channels=256):\n",
    "        super().__init__()\n",
    "        lst = [nn.Conv2d(3, num_channels, 3, padding=1, stride=2)]\n",
    "        for i in range(1, num_layers):\n",
    "            stride = 2 if i < 3 else 1 # stride the first three convolutions\n",
    "            lst.append(nn.Conv2d(num_channels, num_channels, 3, padding=1, stride=stride))\n",
    "            lst.append(nn.ReLU(inplace=True))\n",
    "        self.features = nn.Sequential(*lst)\n",
    "        assert num_layers >= 1\n",
    "        output_size = output_sizes_dict.get(num_layers, 4)\n",
    "        self.classifier = nn.Linear(num_channels * output_size * output_size, num_classes)\n",
    "\n",
    "    def forward(self, x):\n",
    "        x = self.features(x)\n",
    "        x = x.view(x.size(0), -1)\n",
    "        return self.classifier(x)"
   ]
  },
  {
   "cell_type": "code",
   "execution_count": 2,
   "metadata": {},
   "outputs": [],
   "source": [
    "device = torch.device('cuda:0') if torch.cuda.is_available() else torch.device('cpu')\n",
    "net = ConvCifar().to(device)"
   ]
  },
  {
   "cell_type": "markdown",
   "metadata": {},
   "source": [
    "## 2. Load the data\n",
    "\n",
    "Let us load the CIFAR-10 dataset and the corresponding dataloader. For details, see [this PyTorch tutorial](https://pytorch.org/tutorials/beginner/blitz/cifar10_tutorial.html)."
   ]
  },
  {
   "cell_type": "code",
   "execution_count": 3,
   "metadata": {},
   "outputs": [
    {
     "name": "stdout",
     "output_type": "stream",
     "text": [
      "Files already downloaded and verified\n",
      "Files already downloaded and verified\n"
     ]
    }
   ],
   "source": [
    "import torchvision\n",
    "import torchvision.transforms as transforms\n",
    "\n",
    "transform = transforms.Compose(\n",
    "    [transforms.ToTensor(),\n",
    "     transforms.Normalize((0.4914, 0.4822, 0.4465), (0.2023, 0.1994, 0.2010))]\n",
    ")\n",
    "\n",
    "batch_size = 128\n",
    "\n",
    "trainset = torchvision.datasets.CIFAR10(root='./data', train=True,\n",
    "                                        download=True, transform=transform)\n",
    "trainloader = torch.utils.data.DataLoader(trainset, batch_size=batch_size,\n",
    "                                          shuffle=True, num_workers=2)\n",
    "\n",
    "testset = torchvision.datasets.CIFAR10(root='./data', train=False,\n",
    "                                       download=True, transform=transform)\n",
    "testloader = torch.utils.data.DataLoader(testset, batch_size=batch_size,\n",
    "                                         shuffle=False, num_workers=2)"
   ]
  },
  {
   "cell_type": "markdown",
   "metadata": {},
   "source": [
    "Let us write a simple function to calculate the test accuracy of the model. "
   ]
  },
  {
   "cell_type": "code",
   "execution_count": 4,
   "metadata": {},
   "outputs": [
    {
     "name": "stdout",
     "output_type": "stream",
     "text": [
      "Accuracy at initialization = 10.0 %\n"
     ]
    }
   ],
   "source": [
    "@torch.no_grad()\n",
    "def compute_accuracy(net, dataloader):\n",
    "    correct = 0\n",
    "    total = 0\n",
    "    for x, y in dataloader:\n",
    "        x, y = x.to(device), y.to(device)\n",
    "        pred = net(x)\n",
    "        correct += (pred.argmax(axis=1) == y).sum().item()\n",
    "        total += pred.shape[0]\n",
    "    return correct / total\n",
    "print('Accuracy at initialization =', compute_accuracy(net, testloader)*100, '%')"
   ]
  },
  {
   "cell_type": "markdown",
   "metadata": {},
   "source": [
    "## 3. Train a model with the cross entropy loss (usual training)\n",
    "Let us write out a simple training loop to train this model with the cross entropy loss. This code is taken from the [PyTorch tutorial](https://pytorch.org/tutorials/beginner/blitz/cifar10_tutorial.html). "
   ]
  },
  {
   "cell_type": "code",
   "execution_count": 5,
   "metadata": {
    "scrolled": true
   },
   "outputs": [
    {
     "name": "stdout",
     "output_type": "stream",
     "text": [
      "Epoch\tTrain Loss\tTest Accuracy\tTime\n",
      "1\t1.97\t\t37.60% \t\t9.12s\n",
      "2\t1.55\t\t49.65% \t\t8.89s\n",
      "3\t1.36\t\t52.28% \t\t8.65s\n",
      "4\t1.24\t\t57.01% \t\t8.72s\n",
      "5\t1.14\t\t58.52% \t\t9.06s\n",
      "6\t1.04\t\t61.80% \t\t9.38s\n",
      "7\t0.95\t\t61.47% \t\t9.49s\n",
      "8\t0.86\t\t64.08% \t\t9.01s\n",
      "9\t0.78\t\t65.06% \t\t9.38s\n",
      "10\t0.69\t\t63.04% \t\t9.2s\n",
      "11\t0.60\t\t65.86% \t\t9.07s\n",
      "12\t0.51\t\t66.59% \t\t9.53s\n",
      "13\t0.42\t\t66.72% \t\t9.43s\n",
      "14\t0.33\t\t66.91% \t\t9.96s\n",
      "15\t0.25\t\t66.53% \t\t9.1s\n",
      "16\t0.18\t\t65.40% \t\t9.14s\n",
      "17\t0.12\t\t67.83% \t\t8.94s\n",
      "18\t0.07\t\t67.28% \t\t8.61s\n",
      "19\t0.06\t\t67.68% \t\t8.63s\n",
      "20\t0.04\t\t68.14% \t\t9.05s\n",
      "21\t0.03\t\t68.12% \t\t9.51s\n",
      "22\t0.01\t\t69.42% \t\t9.79s\n",
      "23\t0.00\t\t69.73% \t\t9.8s\n",
      "24\t0.00\t\t69.87% \t\t9.63s\n",
      "25\t0.00\t\t69.95% \t\t9.85s\n",
      "26\t0.00\t\t69.94% \t\t9.39s\n",
      "27\t0.00\t\t70.05% \t\t9.38s\n",
      "28\t0.00\t\t69.96% \t\t9.29s\n",
      "29\t0.00\t\t70.05% \t\t9.55s\n",
      "30\t0.00\t\t69.92% \t\t8.84s\n",
      "31\t0.00\t\t70.08% \t\t8.55s\n",
      "32\t0.00\t\t69.94% \t\t8.8s\n",
      "33\t0.00\t\t70.01% \t\t9.15s\n",
      "34\t0.00\t\t69.93% \t\t9.28s\n",
      "35\t0.00\t\t69.94% \t\t9.52s\n",
      "36\t0.00\t\t69.92% \t\t9.37s\n",
      "37\t0.00\t\t70.00% \t\t9.63s\n",
      "38\t0.00\t\t69.95% \t\t9.05s\n",
      "39\t0.00\t\t70.03% \t\t9.06s\n",
      "40\t0.00\t\t70.04% \t\t9.84s\n"
     ]
    }
   ],
   "source": [
    "import time\n",
    "\n",
    "net = ConvCifar().to(device)\n",
    "criterion = torch.nn.CrossEntropyLoss()\n",
    "optimizer = torch.optim.SGD(net.parameters(), lr=0.04, momentum=0.0)\n",
    "\n",
    "logs = []  # test accuracy\n",
    "\n",
    "print('Epoch\\tTrain Loss\\tTest Accuracy\\tTime')\n",
    "\n",
    "for epoch in range(40):  # loop over the dataset multiple times\n",
    "    running_loss = 0.0\n",
    "    start_time = time.time()\n",
    "    for i, (x, y) in enumerate(trainloader):\n",
    "        x, y = x.to(device), y.to(device) \n",
    "        # zero the parameter gradients\n",
    "        optimizer.zero_grad()\n",
    "        # forward\n",
    "        outputs = net(x)\n",
    "        loss = criterion(outputs, y)\n",
    "        # backward\n",
    "        loss.backward()\n",
    "        # optimize\n",
    "        optimizer.step()\n",
    "        # Statistics\n",
    "        running_loss = running_loss * i / (i+1) + loss.item() / (i+1)\n",
    "    logs.append(compute_accuracy(net, testloader))\n",
    "    print(f'{epoch+1}\\t{running_loss:.2f}\\t\\t{100 * logs[-1]:.2f}%', \n",
    "          f'\\t\\t{round(time.time() - start_time, 2)}s')\n",
    "\n"
   ]
  },
  {
   "cell_type": "markdown",
   "metadata": {},
   "source": [
    "## 4. Train the same model to be distributionally robust using `sqwash`\n",
    "\n",
    "To get distributional robustness with `sqwash`, we only need to start by\n",
    "- defining the `SuperquantileReducer`, and,\n",
    "- setting `reduction='none'` in the criterion. \n",
    "\n",
    "With this in place, the 1 additional line we need to make to our training loop is \n",
    "- reduce the losses with the `SuperquantileReducer` object defined above. "
   ]
  },
  {
   "cell_type": "code",
   "execution_count": 6,
   "metadata": {
    "scrolled": true
   },
   "outputs": [
    {
     "name": "stdout",
     "output_type": "stream",
     "text": [
      "Epoch\tTrain Loss\tTest Accuracy\tTime\n",
      "1\t2.27\t\t33.41% \t\t9.67s\n",
      "2\t2.06\t\t40.29% \t\t9.48s\n",
      "3\t1.90\t\t48.27% \t\t9.44s\n",
      "4\t1.80\t\t53.66% \t\t9.16s\n",
      "5\t1.70\t\t53.76% \t\t8.89s\n",
      "6\t1.59\t\t54.94% \t\t8.61s\n",
      "7\t1.49\t\t60.92% \t\t9.09s\n",
      "8\t1.38\t\t62.49% \t\t9.15s\n",
      "9\t1.27\t\t64.47% \t\t9.48s\n",
      "10\t1.15\t\t64.37% \t\t9.91s\n",
      "11\t1.00\t\t64.73% \t\t9.49s\n",
      "12\t0.86\t\t65.20% \t\t9.69s\n",
      "13\t0.69\t\t67.09% \t\t9.49s\n",
      "14\t0.52\t\t66.46% \t\t9.49s\n",
      "15\t0.37\t\t66.40% \t\t9.73s\n",
      "16\t0.25\t\t66.41% \t\t9.41s\n",
      "17\t0.18\t\t66.97% \t\t9.41s\n",
      "18\t0.13\t\t68.14% \t\t8.72s\n",
      "19\t0.10\t\t63.97% \t\t8.94s\n",
      "20\t0.08\t\t67.49% \t\t9.27s\n",
      "21\t0.06\t\t67.75% \t\t9.05s\n",
      "22\t0.05\t\t67.44% \t\t9.33s\n",
      "23\t0.03\t\t68.72% \t\t9.88s\n",
      "24\t0.03\t\t68.82% \t\t9.4s\n",
      "25\t0.04\t\t68.08% \t\t9.48s\n",
      "26\t0.03\t\t68.11% \t\t8.9s\n",
      "27\t0.01\t\t68.89% \t\t9.45s\n",
      "28\t0.00\t\t69.87% \t\t9.64s\n",
      "29\t0.00\t\t70.34% \t\t9.63s\n",
      "30\t0.00\t\t70.45% \t\t9.7s\n",
      "31\t0.00\t\t70.55% \t\t9.18s\n",
      "32\t0.00\t\t70.56% \t\t9.39s\n",
      "33\t0.00\t\t70.46% \t\t8.88s\n",
      "34\t0.00\t\t70.53% \t\t8.97s\n",
      "35\t0.00\t\t70.56% \t\t9.19s\n",
      "36\t0.00\t\t70.54% \t\t9.0s\n",
      "37\t0.00\t\t70.54% \t\t9.54s\n",
      "38\t0.00\t\t70.55% \t\t9.67s\n",
      "39\t0.00\t\t70.50% \t\t9.76s\n",
      "40\t0.00\t\t70.46% \t\t9.44s\n"
     ]
    }
   ],
   "source": [
    "from sqwash import SuperquantileReducer\n",
    "\n",
    "net = ConvCifar().to(device)\n",
    "reducer = SuperquantileReducer(superquantile_tail_fraction=0.6)  # keep 60% of the worst losses in each batch\n",
    "criterion = torch.nn.CrossEntropyLoss(reduction='none')  # NOTE: set reduction='none' so that we get the batch losses\n",
    "optimizer = torch.optim.SGD(net.parameters(), lr=0.04, momentum=0.0)\n",
    "\n",
    "logs_sq = []  # test accuracy\n",
    "\n",
    "print('Epoch\\tTrain Loss\\tTest Accuracy\\tTime')\n",
    "\n",
    "for epoch in range(40):  # loop over the dataset multiple times\n",
    "    running_loss = 0.0\n",
    "    start_time = time.time()\n",
    "    for i, (x, y) in enumerate(trainloader):\n",
    "        x, y = x.to(device), y.to(device) \n",
    "        # zero the parameter gradients\n",
    "        optimizer.zero_grad()\n",
    "        # forward\n",
    "        outputs = net(x)\n",
    "        batch_loss = criterion(outputs, y)\n",
    "        loss = reducer(batch_loss)  # The 1 additional line to reduce batch losses using the superquantile\n",
    "        # backward\n",
    "        loss.backward()\n",
    "        # optimize\n",
    "        optimizer.step()\n",
    "        # Statistics\n",
    "        running_loss = running_loss * i / (i+1) + loss.item() / (i+1)\n",
    "    logs_sq.append(compute_accuracy(net, testloader))\n",
    "    print(f'{epoch+1}\\t{running_loss:.2f}\\t\\t{100 * logs_sq[-1]:.2f}%', \n",
    "          f'\\t\\t{round(time.time() - start_time, 2)}s')\n"
   ]
  },
  {
   "cell_type": "markdown",
   "metadata": {},
   "source": [
    "## Make a plot to visualize the test loss\n",
    "Let us plot the average test loss for regular training and the distributionally robust training."
   ]
  },
  {
   "cell_type": "code",
   "execution_count": 11,
   "metadata": {},
   "outputs": [
    {
     "data": {
      "text/plain": [
       "(0.6, 0.71)"
      ]
     },
     "execution_count": 11,
     "metadata": {},
     "output_type": "execute_result"
    },
    {
     "data": {
      "image/png": "[encoded data removed]",
      "text/plain": [
       "<Figure size 432x288 with 1 Axes>"
      ]
     },
     "metadata": {
      "needs_background": "light"
     },
     "output_type": "display_data"
    }
   ],
   "source": [
    "import matplotlib.pyplot as plt\n",
    "%matplotlib inline\n",
    "\n",
    "plt.plot(logs, label='Usual learning', linewidth=3, linestyle='dotted')\n",
    "plt.plot(logs_sq, label='Distributionally robust\\nlearning with SQwash', linewidth=3, linestyle='solid')\n",
    "plt.xlabel('Epochs', fontsize=18)\n",
    "plt.ylabel('Accuracy %', fontsize=18)\n",
    "plt.title('SQwash in action (CIFAR-10)', fontsize=18)\n",
    "plt.legend(bbox_to_anchor=(1.04,0.5), loc=\"center left\", borderaxespad=0, fontsize=18)\n",
    "plt.ylim((0.6, 0.71))"
   ]
  },
  {
   "cell_type": "markdown",
   "metadata": {},
   "source": [
    "More generally, we find that distributionally robust learning with the superquantile helps with improving the performance on the worst-performing subgroups of data. The following figure, taken from [this paper](https://ieeexplore.ieee.org/document/9400318) illustrates this for the case of distributed training of machine learning models on mobile devices (a.k.a. federated learning)\n",
    "\n",
    "![](../fig/usual_vs_sq.png)\n",
    "\n",
    "From this historgram of the misclassification error (= 1 - Accuracy), we see that the right tail is thinner for the `SQ`, which is based on distributionally robust learning with the superquantile. \n",
    "\n",
    "This denotes smaller misclassification error on the subgroups of data with the worst performance. "
   ]
  },
  {
   "cell_type": "code",
   "execution_count": null,
   "metadata": {},
   "outputs": [],
   "source": []
  }
 ],
 "metadata": {
  "kernelspec": {
   "display_name": "PyT 1.7, TF 1.5",
   "language": "python",
   "name": "pyt17_tf15"
  },
  "language_info": {
   "codemirror_mode": {
    "name": "ipython",
    "version": 3
   },
   "file_extension": ".py",
   "mimetype": "text/x-python",
   "name": "python",
   "nbconvert_exporter": "python",
   "pygments_lexer": "ipython3",
   "version": "3.7.6"
  }
 },
 "nbformat": 4,
 "nbformat_minor": 2
}
